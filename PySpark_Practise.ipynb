{
  "nbformat": 4,
  "nbformat_minor": 0,
  "metadata": {
    "colab": {
      "provenance": [],
      "authorship_tag": "ABX9TyPmm5piIq5I0hjz55wr3Z2n",
      "include_colab_link": true
    },
    "kernelspec": {
      "name": "python3",
      "display_name": "Python 3"
    },
    "language_info": {
      "name": "python"
    }
  },
  "cells": [
    {
      "cell_type": "markdown",
      "metadata": {
        "id": "view-in-github",
        "colab_type": "text"
      },
      "source": [
        "<a href=\"https://colab.research.google.com/github/hasansin/PySpark/blob/master/PySpark_Practise.ipynb\" target=\"_parent\"><img src=\"https://colab.research.google.com/assets/colab-badge.svg\" alt=\"Open In Colab\"/></a>"
      ]
    },
    {
      "cell_type": "code",
      "execution_count": 1,
      "metadata": {
        "colab": {
          "base_uri": "https://localhost:8080/"
        },
        "id": "so18v81zsQoY",
        "outputId": "a452d0d3-c2e4-498c-c6ea-523f62b3547b"
      },
      "outputs": [
        {
          "output_type": "stream",
          "name": "stdout",
          "text": [
            "Requirement already satisfied: pyspark in /usr/local/lib/python3.11/dist-packages (3.5.1)\n",
            "Requirement already satisfied: py4j==0.10.9.7 in /usr/local/lib/python3.11/dist-packages (from pyspark) (0.10.9.7)\n"
          ]
        }
      ],
      "source": [
        "!pip install pyspark"
      ]
    },
    {
      "cell_type": "code",
      "source": [
        "from pyspark.sql import SparkSession\n",
        "from pyspark.sql.functions import col\n",
        "\n",
        "\n",
        "spark = SparkSession.builder.appName('test_pyspark').getOrCreate()\n",
        "\n",
        "df = spark.read.csv('/content/cus.csv',header = True, inferSchema = True);\n",
        "\n",
        "df.show(5)"
      ],
      "metadata": {
        "colab": {
          "base_uri": "https://localhost:8080/"
        },
        "id": "DAJz1rRnsUxo",
        "outputId": "72d86315-5670-41a6-9b91-32e1e2252abe"
      },
      "execution_count": 9,
      "outputs": [
        {
          "output_type": "stream",
          "name": "stdout",
          "text": [
            "+--------+--------+------+--------+----+----+----+\n",
            "|order_id|customer|amount|  status| _c4| _c5| _c6|\n",
            "+--------+--------+------+--------+----+----+----+\n",
            "|    1001|   Alice|   200|complete|NULL|NULL|NULL|\n",
            "|    1002|     Bob|  NULL| pending|NULL|NULL|NULL|\n",
            "|    1003|   Alice|   350|complete|NULL|NULL|NULL|\n",
            "|    1004| Charlie|   150|complete|NULL|NULL|NULL|\n",
            "|    1005|     Bob|   300|complete|NULL|NULL|NULL|\n",
            "+--------+--------+------+--------+----+----+----+\n",
            "only showing top 5 rows\n",
            "\n"
          ]
        }
      ]
    },
    {
      "cell_type": "code",
      "source": [
        "df.printSchema()"
      ],
      "metadata": {
        "colab": {
          "base_uri": "https://localhost:8080/"
        },
        "id": "-8_E2kS5takn",
        "outputId": "296b0e89-705d-4ead-8220-2f658aeb1166"
      },
      "execution_count": 4,
      "outputs": [
        {
          "output_type": "stream",
          "name": "stdout",
          "text": [
            "root\n",
            " |-- order_id: integer (nullable = true)\n",
            " |-- customer: string (nullable = true)\n",
            " |-- amount: integer (nullable = true)\n",
            " |-- status: string (nullable = true)\n",
            " |-- _c4: string (nullable = true)\n",
            " |-- _c5: string (nullable = true)\n",
            " |-- _c6: string (nullable = true)\n",
            "\n"
          ]
        }
      ]
    },
    {
      "cell_type": "code",
      "source": [
        "df.describe().show()"
      ],
      "metadata": {
        "colab": {
          "base_uri": "https://localhost:8080/"
        },
        "id": "Mp0SQFd3tiXe",
        "outputId": "661c8485-8978-4116-d52d-cc3600c4c432"
      },
      "execution_count": 5,
      "outputs": [
        {
          "output_type": "stream",
          "name": "stdout",
          "text": [
            "+-------+------------------+--------+------------------+---------+----+----+----+\n",
            "|summary|          order_id|customer|            amount|   status| _c4| _c5| _c6|\n",
            "+-------+------------------+--------+------------------+---------+----+----+----+\n",
            "|  count|                10|      10|                 7|       10|   0|   0|   0|\n",
            "|   mean|            1005.5|    NULL|278.57142857142856|     NULL|NULL|NULL|NULL|\n",
            "| stddev|3.0276503540974917|    NULL| 118.5226520443204|     NULL|NULL|NULL|NULL|\n",
            "|    min|              1001|   Alice|               150|cancelled|NULL|NULL|NULL|\n",
            "|    max|              1010|    Evan|               500|  pending|NULL|NULL|NULL|\n",
            "+-------+------------------+--------+------------------+---------+----+----+----+\n",
            "\n"
          ]
        }
      ]
    },
    {
      "cell_type": "code",
      "source": [
        "df_clean = df.dropna(subset=['customer','status','amount'])\n",
        "df_clean.show(10)"
      ],
      "metadata": {
        "colab": {
          "base_uri": "https://localhost:8080/"
        },
        "id": "EvHmO_jitooh",
        "outputId": "cd7688bb-85ed-44ee-ea92-4ae830d80aad"
      },
      "execution_count": 8,
      "outputs": [
        {
          "output_type": "stream",
          "name": "stdout",
          "text": [
            "+--------+--------+------+--------+----+----+----+\n",
            "|order_id|customer|amount|  status| _c4| _c5| _c6|\n",
            "+--------+--------+------+--------+----+----+----+\n",
            "|    1001|   Alice|   200|complete|NULL|NULL|NULL|\n",
            "|    1003|   Alice|   350|complete|NULL|NULL|NULL|\n",
            "|    1004| Charlie|   150|complete|NULL|NULL|NULL|\n",
            "|    1005|     Bob|   300|complete|NULL|NULL|NULL|\n",
            "|    1007| Charlie|   200| pending|NULL|NULL|NULL|\n",
            "|    1008|   Diana|   500|complete|NULL|NULL|NULL|\n",
            "|    1009|   Diana|   250|complete|NULL|NULL|NULL|\n",
            "+--------+--------+------+--------+----+----+----+\n",
            "\n"
          ]
        }
      ]
    },
    {
      "cell_type": "code",
      "source": [
        "df_remove_null = df_clean.select([cl for cl in df.columns if df.filter(col(cl).isNotNull()).count() > 0])\n",
        "\n",
        "df_remove_null.show(10)"
      ],
      "metadata": {
        "colab": {
          "base_uri": "https://localhost:8080/"
        },
        "id": "K3qQodoPvmb1",
        "outputId": "9034e357-4889-4925-e895-ab2bd385ec8f"
      },
      "execution_count": 13,
      "outputs": [
        {
          "output_type": "stream",
          "name": "stdout",
          "text": [
            "+--------+--------+------+--------+\n",
            "|order_id|customer|amount|  status|\n",
            "+--------+--------+------+--------+\n",
            "|    1001|   Alice|   200|complete|\n",
            "|    1003|   Alice|   350|complete|\n",
            "|    1004| Charlie|   150|complete|\n",
            "|    1005|     Bob|   300|complete|\n",
            "|    1007| Charlie|   200| pending|\n",
            "|    1008|   Diana|   500|complete|\n",
            "|    1009|   Diana|   250|complete|\n",
            "+--------+--------+------+--------+\n",
            "\n"
          ]
        }
      ]
    },
    {
      "cell_type": "code",
      "source": [
        "df_remove_duplicates = df_remove_null.dropDuplicates()\n",
        "df_remove_duplicates.show(19)"
      ],
      "metadata": {
        "colab": {
          "base_uri": "https://localhost:8080/"
        },
        "id": "3gvgtAt_w7Qc",
        "outputId": "c4b49015-2f20-4a0c-d1b0-dd6a5caf724b"
      },
      "execution_count": 17,
      "outputs": [
        {
          "output_type": "stream",
          "name": "stdout",
          "text": [
            "+--------+--------+------+--------+\n",
            "|order_id|customer|amount|  status|\n",
            "+--------+--------+------+--------+\n",
            "|    1001|   Alice|   200|complete|\n",
            "|    1003|   Alice|   350|complete|\n",
            "|    1008|   Diana|   500|complete|\n",
            "|    1005|     Bob|   300|complete|\n",
            "|    1007| Charlie|   200| pending|\n",
            "|    1009|   Diana|   250|complete|\n",
            "|    1004| Charlie|   150|complete|\n",
            "+--------+--------+------+--------+\n",
            "\n"
          ]
        }
      ]
    },
    {
      "cell_type": "code",
      "source": [
        "completed_orders = df_remove_duplicates.filter(df_remove_duplicates[\"status\"] =='complete')\n",
        "completed_orders.show()"
      ],
      "metadata": {
        "colab": {
          "base_uri": "https://localhost:8080/"
        },
        "id": "ggJyiy_7x9E8",
        "outputId": "674606ec-ee9d-4209-f067-a9f3f7b24d3b"
      },
      "execution_count": 20,
      "outputs": [
        {
          "output_type": "stream",
          "name": "stdout",
          "text": [
            "+--------+--------+------+--------+\n",
            "|order_id|customer|amount|  status|\n",
            "+--------+--------+------+--------+\n",
            "|    1001|   Alice|   200|complete|\n",
            "|    1003|   Alice|   350|complete|\n",
            "|    1008|   Diana|   500|complete|\n",
            "|    1005|     Bob|   300|complete|\n",
            "|    1009|   Diana|   250|complete|\n",
            "|    1004| Charlie|   150|complete|\n",
            "+--------+--------+------+--------+\n",
            "\n"
          ]
        }
      ]
    },
    {
      "cell_type": "code",
      "source": [
        "grp_data = completed_orders.groupBy(\"customer\").sum(\"amount\");\n",
        "grp_data.show()"
      ],
      "metadata": {
        "colab": {
          "base_uri": "https://localhost:8080/"
        },
        "id": "NkBfY8-BzuTg",
        "outputId": "daa33649-6753-4d2d-b5e9-731ab92ae6ff"
      },
      "execution_count": 21,
      "outputs": [
        {
          "output_type": "stream",
          "name": "stdout",
          "text": [
            "+--------+-----------+\n",
            "|customer|sum(amount)|\n",
            "+--------+-----------+\n",
            "|   Diana|        750|\n",
            "| Charlie|        150|\n",
            "|     Bob|        300|\n",
            "|   Alice|        550|\n",
            "+--------+-----------+\n",
            "\n"
          ]
        }
      ]
    },
    {
      "cell_type": "code",
      "source": [
        "data_sorted = grp_data.orderBy('sum(amount)',ascending = False).show()"
      ],
      "metadata": {
        "colab": {
          "base_uri": "https://localhost:8080/"
        },
        "id": "IyEKSIrR0Qr6",
        "outputId": "81dab38b-19fb-48a8-9f71-5cfb9b01f467"
      },
      "execution_count": 22,
      "outputs": [
        {
          "output_type": "stream",
          "name": "stdout",
          "text": [
            "+--------+-----------+\n",
            "|customer|sum(amount)|\n",
            "+--------+-----------+\n",
            "|   Diana|        750|\n",
            "|   Alice|        550|\n",
            "|     Bob|        300|\n",
            "| Charlie|        150|\n",
            "+--------+-----------+\n",
            "\n"
          ]
        }
      ]
    }
  ]
}