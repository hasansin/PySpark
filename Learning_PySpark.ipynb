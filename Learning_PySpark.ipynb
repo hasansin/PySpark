{
  "nbformat": 4,
  "nbformat_minor": 0,
  "metadata": {
    "colab": {
      "provenance": [],
      "authorship_tag": "ABX9TyOzHB+qepRFkY1b0jC3hnTf",
      "include_colab_link": true
    },
    "kernelspec": {
      "name": "python3",
      "display_name": "Python 3"
    },
    "language_info": {
      "name": "python"
    }
  },
  "cells": [
    {
      "cell_type": "markdown",
      "metadata": {
        "id": "view-in-github",
        "colab_type": "text"
      },
      "source": [
        "<a href=\"https://colab.research.google.com/github/hasansin/PySpark/blob/master/Learning_PySpark.ipynb\" target=\"_parent\"><img src=\"https://colab.research.google.com/assets/colab-badge.svg\" alt=\"Open In Colab\"/></a>"
      ]
    },
    {
      "cell_type": "markdown",
      "source": [
        "1. insall pyspark"
      ],
      "metadata": {
        "id": "8_AdQH7Hz8rg"
      }
    },
    {
      "cell_type": "code",
      "execution_count": 1,
      "metadata": {
        "colab": {
          "base_uri": "https://localhost:8080/"
        },
        "id": "8fxcEi1Jz7WK",
        "outputId": "03364cf2-bd28-47b5-eb89-b8bc8a78cfcc"
      },
      "outputs": [
        {
          "output_type": "stream",
          "name": "stdout",
          "text": [
            "Requirement already satisfied: pyspark in /usr/local/lib/python3.11/dist-packages (3.5.4)\n",
            "Requirement already satisfied: py4j==0.10.9.7 in /usr/local/lib/python3.11/dist-packages (from pyspark) (0.10.9.7)\n"
          ]
        }
      ],
      "source": [
        "!pip install pyspark"
      ]
    },
    {
      "cell_type": "markdown",
      "source": [
        "2. Initiate spark session"
      ],
      "metadata": {
        "id": "_pW2zK930Yql"
      }
    },
    {
      "cell_type": "code",
      "source": [
        "from pyspark.sql import SparkSession\n",
        "from pyspark.sql.functions import monotonically_increasing_id\n",
        "from pyspark.sql.types import *\n",
        "\n",
        "spark = SparkSession.builder.appName('new_spark_session').getOrCreate()\n"
      ],
      "metadata": {
        "id": "9e7NK-bI0dqT"
      },
      "execution_count": 10,
      "outputs": []
    },
    {
      "cell_type": "markdown",
      "source": [
        "3. Load data"
      ],
      "metadata": {
        "id": "fJ4-Lfcv1C5K"
      }
    },
    {
      "cell_type": "code",
      "source": [
        "schema = StructType([\n",
        "            # StructField(\"GAMEID\", IntegerType(), True),\n",
        "            StructField(\"EVENTID\", IntegerType(), True),\n",
        "            StructField(\"EVENTNUM\", IntegerType(), True),\n",
        "            StructField(\"GAMEID\", IntegerType(), True),\n",
        "            StructField(\"HOMEDESCRIPTION\", StringType(), True),\n",
        "            StructField(\"PCTIMESTRING\", StringType(), True),\n",
        "            StructField(\"PERIOD\", StringType(), True),\n",
        "            StructField(\"PLAYER1_ID\", IntegerType(), True),\n",
        "            StructField(\"PLAYER1_NAME\", StringType(), True),\n",
        "            StructField(\"PLAYER1_TEAM_ABBREVIATION\", StringType(), True),\n",
        "            StructField(\"PLAYER1_TEAM_CITY\", StringType(), True),\n",
        "            StructField(\"PLAYER1_TEAM_ID\", IntegerType(), True),\n",
        "            StructField(\"PLAYER1_TEAM_NICKNAME\", StringType(), True),\n",
        "            StructField(\"PLAYER2_ID\", IntegerType(), True),\n",
        "            StructField(\"PLAYER2_NAME\", StringType(), True),\n",
        "            StructField(\"PLAYER2_TEAM_ABBREVIATION,\", StringType(), True),\n",
        "            StructField(\"PLAYER2_TEAM_CITY\", StringType(), True),\n",
        "            StructField(\"PLAYER2_TEAM_ID\", IntegerType(), True),\n",
        "            StructField(\"PLAYER2_TEAM_NICKNAME\", StringType(), True),\n",
        "            StructField(\"PLAYER3_ID\", IntegerType(), True),\n",
        "            StructField(\"PLAYER3_NAME\", StringType(), True),\n",
        "            StructField(\"PLAYER3_TEAM_ABBREVIATION\", StringType(), True),\n",
        "            StructField(\"PLAYER3_TEAM_CITY\", StringType(), True),\n",
        "            StructField(\"PLAYER3_TEAM_ID\", IntegerType(), True),\n",
        "            StructField(\"PLAYER3_TEAM_NICKNAME\", StringType(), True),\n",
        "            StructField(\"SCORE\", StringType(), True),\n",
        "            StructField(\"SCOREMARGIN\", StringType(), True),\n",
        "            StructField(\"VISITORDESCRIPTION\", StringType(), True)\n",
        "           ])\n",
        "df = spark.read.csv(\"/content/dataset.csv\", header=True,schema=schema,sep=\",\")\n"
      ],
      "metadata": {
        "id": "c1QqxDJl1MsT"
      },
      "execution_count": 11,
      "outputs": []
    },
    {
      "cell_type": "markdown",
      "source": [
        "4. Get First 10 lines of Dataframe"
      ],
      "metadata": {
        "id": "xoWqnS2y23pZ"
      }
    },
    {
      "cell_type": "code",
      "source": [
        "\n",
        "# Filter out the first row (EVENTID 0)\n",
        "df = df.filter(df[\"EVENTID\"] != 0)\n",
        "\n",
        "# Show the updated DataFrame\n",
        "df.show()"
      ],
      "metadata": {
        "colab": {
          "base_uri": "https://localhost:8080/"
        },
        "id": "DsojMsWk2-K_",
        "outputId": "85cbe9c7-2e4a-4909-9f62-76cb1c2f6b2d"
      },
      "execution_count": 12,
      "outputs": [
        {
          "output_type": "stream",
          "name": "stdout",
          "text": [
            "+-------+--------+--------+--------------------+------------+------+----------+-------------+-------------------------+-----------------+---------------+---------------------+----------+---------------+--------------------------+-----------------+---------------+---------------------+----------+------------+-------------------------+-----------------+---------------+---------------------+-----+-----------+--------------------+\n",
            "|EVENTID|EVENTNUM|  GAMEID|     HOMEDESCRIPTION|PCTIMESTRING|PERIOD|PLAYER1_ID| PLAYER1_NAME|PLAYER1_TEAM_ABBREVIATION|PLAYER1_TEAM_CITY|PLAYER1_TEAM_ID|PLAYER1_TEAM_NICKNAME|PLAYER2_ID|   PLAYER2_NAME|PLAYER2_TEAM_ABBREVIATION,|PLAYER2_TEAM_CITY|PLAYER2_TEAM_ID|PLAYER2_TEAM_NICKNAME|PLAYER3_ID|PLAYER3_NAME|PLAYER3_TEAM_ABBREVIATION|PLAYER3_TEAM_CITY|PLAYER3_TEAM_ID|PLAYER3_TEAM_NICKNAME|SCORE|SCOREMARGIN|  VISITORDESCRIPTION|\n",
            "+-------+--------+--------+--------------------+------------+------+----------+-------------+-------------------------+-----------------+---------------+---------------------+----------+---------------+--------------------------+-----------------+---------------+---------------------+----------+------------+-------------------------+-----------------+---------------+---------------------+-----+-----------+--------------------+\n",
            "|      1|       1|20001116|Jump Ball Grant v...|       12:00|     1|       258|  Brian Grant|                      MIA|            Miami|           NULL|                 Heat|        87|Dikembe Mutombo|                       PHI|     Philadelphia|           NULL|                76ers|       238| Tyrone Hill|                      PHI|     Philadelphia|           NULL|                76ers| NULL|       NULL|                NULL|\n",
            "|      2|       2|20001116|                NULL|       11:45|     1|       947|Allen Iverson|                      PHI|     Philadelphia|           NULL|                76ers|         0|           NULL|                      NULL|             NULL|           NULL|                 NULL|         0|        NULL|                     NULL|             NULL|           NULL|                 NULL|2 - 0|         -2|Iverson 21' Jump ...|\n",
            "|      3|       3|20001116|                NULL|       11:28|     1|       238|  Tyrone Hill|                      PHI|     Philadelphia|           NULL|                76ers|         0|           NULL|                      NULL|             NULL|           NULL|                 NULL|         0|        NULL|                     NULL|             NULL|           NULL|                 NULL| NULL|       NULL| Hill P.FOUL (P1.T1)|\n",
            "|      4|       4|20001116|Mason 17' Jump Sh...|       11:19|     1|       193|Anthony Mason|                      MIA|            Miami|           NULL|                 Heat|         0|           NULL|                      NULL|             NULL|           NULL|                 NULL|         0|        NULL|                     NULL|             NULL|           NULL|                 NULL|2 - 2|        TIE|                NULL|\n",
            "|      5|       5|20001116|                NULL|       10:56|     1|       248| George Lynch|                      PHI|     Philadelphia|           NULL|                76ers|         0|           NULL|                      NULL|             NULL|           NULL|                 NULL|         0|        NULL|                     NULL|             NULL|           NULL|                 NULL| NULL|       NULL|MISS Lynch 22' Ju...|\n",
            "|      6|       6|20001116|Mason REBOUND (Of...|       10:54|     1|       193|Anthony Mason|                      MIA|            Miami|           NULL|                 Heat|         0|           NULL|                      NULL|             NULL|           NULL|                 NULL|         0|        NULL|                     NULL|             NULL|           NULL|                 NULL| NULL|       NULL|                NULL|\n",
            "|      7|       7|20001116|MISS Majerle  Dri...|       10:49|     1|       105|  Dan Majerle|                      MIA|            Miami|           NULL|                 Heat|         0|           NULL|                      NULL|             NULL|           NULL|                 NULL|         0|        NULL|                     NULL|             NULL|           NULL|                 NULL| NULL|       NULL|                NULL|\n",
            "|      8|       8|20001116|                NULL|       10:47|     1|       727|    Eric Snow|                      PHI|     Philadelphia|           NULL|                76ers|         0|           NULL|                      NULL|             NULL|           NULL|                 NULL|         0|        NULL|                     NULL|             NULL|           NULL|                 NULL| NULL|       NULL|Snow REBOUND (Off...|\n",
            "|      9|       9|20001116|                NULL|       10:44|     1|       248| George Lynch|                      PHI|     Philadelphia|           NULL|                76ers|       727|      Eric Snow|                       PHI|     Philadelphia|           NULL|                76ers|         0|        NULL|                     NULL|             NULL|           NULL|                 NULL|4 - 2|         -2|Lynch  Layup (2 P...|\n",
            "|     10|      10|20001116|Hardaway S.FOUL (...|       10:44|     1|       896| Tim Hardaway|                      MIA|            Miami|           NULL|                 Heat|         0|           NULL|                      NULL|             NULL|           NULL|                 NULL|         0|        NULL|                     NULL|             NULL|           NULL|                 NULL| NULL|       NULL|                NULL|\n",
            "|     11|      11|20001116|                NULL|       10:44|     1|       248| George Lynch|                      PHI|     Philadelphia|           NULL|                76ers|         0|           NULL|                      NULL|             NULL|           NULL|                 NULL|         0|        NULL|                     NULL|             NULL|           NULL|                 NULL| NULL|       NULL|MISS Lynch Free T...|\n",
            "|     12|      12|20001116|Grant REBOUND (Of...|       10:43|     1|       258|  Brian Grant|                      MIA|            Miami|           NULL|                 Heat|         0|           NULL|                      NULL|             NULL|           NULL|                 NULL|         0|        NULL|                     NULL|             NULL|           NULL|                 NULL| NULL|       NULL|                NULL|\n",
            "|     13|      13|20001116|MISS Grant 14' Ju...|       10:26|     1|       258|  Brian Grant|                      MIA|            Miami|           NULL|                 Heat|         0|           NULL|                      NULL|             NULL|           NULL|                 NULL|         0|        NULL|                     NULL|             NULL|           NULL|                 NULL| NULL|       NULL|                NULL|\n",
            "|     14|      14|20001116|                NULL|       10:24|     1|       238|  Tyrone Hill|                      PHI|     Philadelphia|           NULL|                76ers|         0|           NULL|                      NULL|             NULL|           NULL|                 NULL|         0|        NULL|                     NULL|             NULL|           NULL|                 NULL| NULL|       NULL|Hill REBOUND (Off...|\n",
            "|     15|      15|20001116|                NULL|       10:08|     1|       238|  Tyrone Hill|                      PHI|     Philadelphia|           NULL|                76ers|         0|           NULL|                      NULL|             NULL|           NULL|                 NULL|         0|        NULL|                     NULL|             NULL|           NULL|                 NULL| NULL|       NULL|MISS Hill 17' Jum...|\n",
            "|     16|      16|20001116|Mason REBOUND (Of...|       10:06|     1|       193|Anthony Mason|                      MIA|            Miami|           NULL|                 Heat|         0|           NULL|                      NULL|             NULL|           NULL|                 NULL|         0|        NULL|                     NULL|             NULL|           NULL|                 NULL| NULL|       NULL|                NULL|\n",
            "|     17|      17|20001116|MISS Bowen 4' Jum...|        9:53|     1|      1477|  Bruce Bowen|                      MIA|            Miami|           NULL|                 Heat|         0|           NULL|                      NULL|             NULL|           NULL|                 NULL|         0|        NULL|                     NULL|             NULL|           NULL|                 NULL| NULL|       NULL|                NULL|\n",
            "|     18|      18|20001116|                NULL|        9:51|     1|       238|  Tyrone Hill|                      PHI|     Philadelphia|           NULL|                76ers|         0|           NULL|                      NULL|             NULL|           NULL|                 NULL|         0|        NULL|                     NULL|             NULL|           NULL|                 NULL| NULL|       NULL|Hill REBOUND (Off...|\n",
            "|     19|      19|20001116|                NULL|        9:45|     1|       947|Allen Iverson|                      PHI|     Philadelphia|           NULL|                76ers|         0|           NULL|                      NULL|             NULL|           NULL|                 NULL|         0|        NULL|                     NULL|             NULL|           NULL|                 NULL|6 - 2|         -4|Iverson  Driving ...|\n",
            "|     20|      20|20001116|HEAT Timeout: Sho...|        9:38|     1|1610612748|         NULL|                     NULL|             NULL|           NULL|                 NULL|         0|           NULL|                      NULL|             NULL|           NULL|                 NULL|         0|        NULL|                     NULL|             NULL|           NULL|                 NULL| NULL|       NULL|                NULL|\n",
            "+-------+--------+--------+--------------------+------------+------+----------+-------------+-------------------------+-----------------+---------------+---------------------+----------+---------------+--------------------------+-----------------+---------------+---------------------+----------+------------+-------------------------+-----------------+---------------+---------------------+-----+-----------+--------------------+\n",
            "only showing top 20 rows\n",
            "\n"
          ]
        }
      ]
    },
    {
      "cell_type": "markdown",
      "source": [
        "4. Get Coulumn and Order By"
      ],
      "metadata": {
        "id": "6ZVOcxywn2tr"
      }
    },
    {
      "cell_type": "code",
      "source": [
        "MIA_df =df.filter((df.PLAYER1_TEAM_ABBREVIATION == 'MIA') & (df.PERIOD == '1' )).orderBy(df.GAMEID ,df.PLAYER1_ID)\n",
        "MIA_df.show()\n",
        "# Save to CSV\n",
        "MIA_df.write.csv(\"MIA_df.csv\", header=True, mode=\"overwrite\")"
      ],
      "metadata": {
        "colab": {
          "base_uri": "https://localhost:8080/"
        },
        "id": "_JN3u_p2n9PU",
        "outputId": "6b8551a7-c7f3-4c76-8c3f-eab78972ed7c"
      },
      "execution_count": 23,
      "outputs": [
        {
          "output_type": "stream",
          "name": "stdout",
          "text": [
            "+-------+--------+--------+--------------------+------------+------+----------+--------------+-------------------------+-----------------+---------------+---------------------+----------+-------------+--------------------------+-----------------+---------------+---------------------+----------+-----------------+-------------------------+-----------------+---------------+---------------------+------+-----------+------------------+\n",
            "|EVENTID|EVENTNUM|  GAMEID|     HOMEDESCRIPTION|PCTIMESTRING|PERIOD|PLAYER1_ID|  PLAYER1_NAME|PLAYER1_TEAM_ABBREVIATION|PLAYER1_TEAM_CITY|PLAYER1_TEAM_ID|PLAYER1_TEAM_NICKNAME|PLAYER2_ID| PLAYER2_NAME|PLAYER2_TEAM_ABBREVIATION,|PLAYER2_TEAM_CITY|PLAYER2_TEAM_ID|PLAYER2_TEAM_NICKNAME|PLAYER3_ID|     PLAYER3_NAME|PLAYER3_TEAM_ABBREVIATION|PLAYER3_TEAM_CITY|PLAYER3_TEAM_ID|PLAYER3_TEAM_NICKNAME| SCORE|SCOREMARGIN|VISITORDESCRIPTION|\n",
            "+-------+--------+--------+--------------------+------------+------+----------+--------------+-------------------------+-----------------+---------------+---------------------+----------+-------------+--------------------------+-----------------+---------------+---------------------+----------+-----------------+-------------------------+-----------------+---------------+---------------------+------+-----------+------------------+\n",
            "|      1|       1|20000016|Jump Ball Causwel...|       12:00|     1|       190|Duane Causwell|                      MIA|            Miami|           NULL|                 Heat|      1503|Tracy McGrady|                       ORL|          Orlando|           NULL|                Magic|       353|Darrell Armstrong|                      ORL|          Orlando|           NULL|                Magic|  NULL|       NULL|              NULL|\n",
            "|     39|      43|20000016|Causwell Free Thr...|        7:20|     1|       190|Duane Causwell|                      MIA|            Miami|           NULL|                 Heat|         0|         NULL|                      NULL|             NULL|           NULL|                 NULL|         0|             NULL|                     NULL|             NULL|           NULL|                 NULL|5 - 19|         14|              NULL|\n",
            "|     18|      21|20000016|MISS Causwell Fre...|        9:55|     1|       190|Duane Causwell|                      MIA|            Miami|           NULL|                 Heat|         0|         NULL|                      NULL|             NULL|           NULL|                 NULL|         0|             NULL|                     NULL|             NULL|           NULL|                 NULL|  NULL|       NULL|              NULL|\n",
            "|     20|      23|20000016|Causwell Free Thr...|        9:55|     1|       190|Duane Causwell|                      MIA|            Miami|           NULL|                 Heat|         0|         NULL|                      NULL|             NULL|           NULL|                 NULL|         0|             NULL|                     NULL|             NULL|           NULL|                 NULL| 3 - 7|          4|              NULL|\n",
            "|     24|      27|20000016|Causwell REBOUND ...|        9:22|     1|       190|Duane Causwell|                      MIA|            Miami|           NULL|                 Heat|         0|         NULL|                      NULL|             NULL|           NULL|                 NULL|         0|             NULL|                     NULL|             NULL|           NULL|                 NULL|  NULL|       NULL|              NULL|\n",
            "|     27|      30|20000016|Causwell 5' Hook ...|        8:44|     1|       190|Duane Causwell|                      MIA|            Miami|           NULL|                 Heat|       258|  Brian Grant|                       MIA|            Miami|           NULL|                 Heat|         0|             NULL|                     NULL|             NULL|           NULL|                 NULL|3 - 12|          9|              NULL|\n",
            "|     38|      42|20000016|Causwell Free Thr...|        7:20|     1|       190|Duane Causwell|                      MIA|            Miami|           NULL|                 Heat|         0|         NULL|                      NULL|             NULL|           NULL|                 NULL|         0|             NULL|                     NULL|             NULL|           NULL|                 NULL|5 - 18|         13|              NULL|\n",
            "|     43|      47|20000016|Causwell REBOUND ...|        7:01|     1|       190|Duane Causwell|                      MIA|            Miami|           NULL|                 Heat|         0|         NULL|                      NULL|             NULL|           NULL|                 NULL|         0|             NULL|                     NULL|             NULL|           NULL|                 NULL|  NULL|       NULL|              NULL|\n",
            "|     46|      50|20000016|Causwell 3 Second...|        6:22|     1|       190|Duane Causwell|                      MIA|            Miami|           NULL|                 Heat|         0|         NULL|                      NULL|             NULL|           NULL|                 NULL|         0|             NULL|                     NULL|             NULL|           NULL|                 NULL|  NULL|       NULL|              NULL|\n",
            "|     49|      53|20000016|Causwell OFF.Foul...|        5:39|     1|       190|Duane Causwell|                      MIA|            Miami|           NULL|                 Heat|         0|         NULL|                      NULL|             NULL|           NULL|                 NULL|         0|             NULL|                     NULL|             NULL|           NULL|                 NULL|  NULL|       NULL|              NULL|\n",
            "|     50|      54|20000016|Causwell Foul Tur...|        5:39|     1|       190|Duane Causwell|                      MIA|            Miami|           NULL|                 Heat|         0|         NULL|                      NULL|             NULL|           NULL|                 NULL|         0|             NULL|                     NULL|             NULL|           NULL|                 NULL|  NULL|       NULL|              NULL|\n",
            "|     56|      60|20000016|Causwell P.FOUL (...|        4:58|     1|       190|Duane Causwell|                      MIA|            Miami|           NULL|                 Heat|         0|         NULL|                      NULL|             NULL|           NULL|                 NULL|         0|             NULL|                     NULL|             NULL|           NULL|                 NULL|  NULL|       NULL|              NULL|\n",
            "|     83|      89|20000016|SUB: MacLean FOR ...|        2:36|     1|       190|Duane Causwell|                      MIA|            Miami|           NULL|                 Heat|       931|  Don MacLean|                       MIA|            Miami|           NULL|                 Heat|         0|             NULL|                     NULL|             NULL|           NULL|                 NULL|  NULL|       NULL|              NULL|\n",
            "|     78|      83|20000016|Mason REBOUND (Of...|        2:47|     1|       193| Anthony Mason|                      MIA|            Miami|           NULL|                 Heat|         0|         NULL|                      NULL|             NULL|           NULL|                 NULL|         0|             NULL|                     NULL|             NULL|           NULL|                 NULL|  NULL|       NULL|              NULL|\n",
            "|     79|      84|20000016|Mason Palming Tur...|        2:36|     1|       193| Anthony Mason|                      MIA|            Miami|           NULL|                 Heat|         0|         NULL|                      NULL|             NULL|           NULL|                 NULL|         0|             NULL|                     NULL|             NULL|           NULL|                 NULL|  NULL|       NULL|              NULL|\n",
            "|     94|     100|20000016|Mason P.FOUL (P1.T4)|        1:29|     1|       193| Anthony Mason|                      MIA|            Miami|           NULL|                 Heat|         0|         NULL|                      NULL|             NULL|           NULL|                 NULL|         0|             NULL|                     NULL|             NULL|           NULL|                 NULL|  NULL|       NULL|              NULL|\n",
            "|      3|       3|20000016|Jones REBOUND (Of...|       11:41|     1|       224|   Eddie Jones|                      MIA|            Miami|           NULL|                 Heat|         0|         NULL|                      NULL|             NULL|           NULL|                 NULL|         0|             NULL|                     NULL|             NULL|           NULL|                 NULL|  NULL|       NULL|              NULL|\n",
            "|     15|      18|20000016|Jones 13' Jump Sh...|       10:24|     1|       224|   Eddie Jones|                      MIA|            Miami|           NULL|                 Heat|         0|         NULL|                      NULL|             NULL|           NULL|                 NULL|         0|             NULL|                     NULL|             NULL|           NULL|                 NULL| 1 - 6|          5|              NULL|\n",
            "|     25|      28|20000016|Jones 25' 3PT Jum...|        9:05|     1|       224|   Eddie Jones|                      MIA|            Miami|           NULL|                 Heat|       193|Anthony Mason|                       MIA|            Miami|           NULL|                 Heat|         0|             NULL|                     NULL|             NULL|           NULL|                 NULL|3 - 10|          7|              NULL|\n",
            "|     29|      32|20000016|Jones REBOUND (Of...|        8:23|     1|       224|   Eddie Jones|                      MIA|            Miami|           NULL|                 Heat|         0|         NULL|                      NULL|             NULL|           NULL|                 NULL|         0|             NULL|                     NULL|             NULL|           NULL|                 NULL|  NULL|       NULL|              NULL|\n",
            "+-------+--------+--------+--------------------+------------+------+----------+--------------+-------------------------+-----------------+---------------+---------------------+----------+-------------+--------------------------+-----------------+---------------+---------------------+----------+-----------------+-------------------------+-----------------+---------------+---------------------+------+-----------+------------------+\n",
            "only showing top 20 rows\n",
            "\n"
          ]
        }
      ]
    }
  ]
}