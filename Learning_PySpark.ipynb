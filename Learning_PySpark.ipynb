{
  "nbformat": 4,
  "nbformat_minor": 0,
  "metadata": {
    "colab": {
      "provenance": [],
      "authorship_tag": "ABX9TyOcrWtg2D7Sk7sByQOaafXw",
      "include_colab_link": true
    },
    "kernelspec": {
      "name": "python3",
      "display_name": "Python 3"
    },
    "language_info": {
      "name": "python"
    }
  },
  "cells": [
    {
      "cell_type": "markdown",
      "metadata": {
        "id": "view-in-github",
        "colab_type": "text"
      },
      "source": [
        "<a href=\"https://colab.research.google.com/github/hasansin/PySpark/blob/master/Learning_PySpark.ipynb\" target=\"_parent\"><img src=\"https://colab.research.google.com/assets/colab-badge.svg\" alt=\"Open In Colab\"/></a>"
      ]
    },
    {
      "cell_type": "markdown",
      "source": [
        "1. insall pyspark"
      ],
      "metadata": {
        "id": "8_AdQH7Hz8rg"
      }
    },
    {
      "cell_type": "code",
      "execution_count": 15,
      "metadata": {
        "colab": {
          "base_uri": "https://localhost:8080/"
        },
        "id": "8fxcEi1Jz7WK",
        "outputId": "5337d0c8-5bf1-436c-8ce2-c5763ec38b3c"
      },
      "outputs": [
        {
          "output_type": "stream",
          "name": "stdout",
          "text": [
            "Requirement already satisfied: pyspark in /usr/local/lib/python3.11/dist-packages (3.5.4)\n",
            "Requirement already satisfied: py4j==0.10.9.7 in /usr/local/lib/python3.11/dist-packages (from pyspark) (0.10.9.7)\n"
          ]
        }
      ],
      "source": [
        "!pip install pyspark"
      ]
    },
    {
      "cell_type": "markdown",
      "source": [
        "2. Initiate spark session"
      ],
      "metadata": {
        "id": "_pW2zK930Yql"
      }
    },
    {
      "cell_type": "code",
      "source": [
        "from pyspark.sql import SparkSession\n",
        "from pyspark.sql.functions import monotonically_increasing_id\n",
        "from pyspark.sql.types import *\n",
        "\n",
        "spark = SparkSession.builder.appName('new_spark_session').getOrCreate()\n"
      ],
      "metadata": {
        "id": "9e7NK-bI0dqT"
      },
      "execution_count": 25,
      "outputs": []
    },
    {
      "cell_type": "markdown",
      "source": [
        "3. Load data"
      ],
      "metadata": {
        "id": "fJ4-Lfcv1C5K"
      }
    },
    {
      "cell_type": "code",
      "source": [
        "schema = StructType([\n",
        "            StructField(\"EVENTID\", IntegerType(), True),\n",
        "            StructField(\"EVENTNUM\", IntegerType(), True),\n",
        "            StructField(\"HOMEDESCRIPTION\", StringType(), True),\n",
        "            StructField(\"PCTIMESTRING\", StringType(), True),\n",
        "            StructField(\"PERIOD\", StringType(), True),\n",
        "            StructField(\"PLAYER1_ID\", IntegerType(), True),\n",
        "            StructField(\"PLAYER1_NAME\", StringType(), True),\n",
        "            StructField(\"PLAYER1_TEAM_ABBREVIATION\", StringType(), True),\n",
        "            StructField(\"PLAYER1_TEAM_CITY\", StringType(), True),\n",
        "            StructField(\"PLAYER1_TEAM_ID\", IntegerType(), True),\n",
        "            StructField(\"PLAYER1_TEAM_NICKNAME\", StringType(), True),\n",
        "            StructField(\"PLAYER2_ID\", IntegerType(), True),\n",
        "            StructField(\"PLAYER2_NAME\", StringType(), True),\n",
        "            StructField(\"PLAYER2_TEAM_ABBREVIATION,\", StringType(), True),\n",
        "            StructField(\"PLAYER2_TEAM_CITY\", StringType(), True),\n",
        "            StructField(\"PLAYER2_TEAM_ID\", IntegerType(), True),\n",
        "            StructField(\"PLAYER2_TEAM_NICKNAME\", StringType(), True),\n",
        "            StructField(\"PLAYER3_ID\", IntegerType(), True),\n",
        "            StructField(\"PLAYER3_NAME\", StringType(), True),\n",
        "            StructField(\"PLAYER3_TEAM_ABBREVIATION\", StringType(), True),\n",
        "            StructField(\"PLAYER3_TEAM_CITY\", StringType(), True),\n",
        "            StructField(\"PLAYER3_TEAM_ID\", IntegerType(), True),\n",
        "            StructField(\"PLAYER3_TEAM_NICKNAME\", StringType(), True),\n",
        "            StructField(\"SCORE\", StringType(), True),\n",
        "            StructField(\"SCOREMARGIN\", StringType(), True),\n",
        "            StructField(\"VISITORDESCRIPTION\", StringType(), True)\n",
        "           ])\n",
        "df = spark.read.csv(\"/content/dataset.csv\", header=True,schema=schema,sep=\",\")\n"
      ],
      "metadata": {
        "id": "c1QqxDJl1MsT"
      },
      "execution_count": 26,
      "outputs": []
    },
    {
      "cell_type": "markdown",
      "source": [
        "4. Get First 10 lines of Dataframe"
      ],
      "metadata": {
        "id": "xoWqnS2y23pZ"
      }
    },
    {
      "cell_type": "code",
      "source": [
        "# Add a temporary index column\n",
        "df = df.withColumn(\"index\", monotonically_increasing_id())\n",
        "\n",
        "# Filter out the first row (index 0)\n",
        "df = df.filter(df[\"index\"] != 0)\n",
        "\n",
        "# Drop the temporary index column\n",
        "df = df.drop(\"index\")\n",
        "\n",
        "# Show the updated DataFrame\n",
        "df.show()"
      ],
      "metadata": {
        "colab": {
          "base_uri": "https://localhost:8080/"
        },
        "id": "DsojMsWk2-K_",
        "outputId": "ef5bbe35-bc31-4022-d700-5f47c6131483"
      },
      "execution_count": 27,
      "outputs": [
        {
          "output_type": "stream",
          "name": "stdout",
          "text": [
            "+-------+--------+---------------+--------------------+------+----------+------------+-------------------------+-----------------+---------------+---------------------+----------+------------+--------------------------+-----------------+---------------+---------------------+----------+------------+-------------------------+-----------------+---------------+---------------------+-----+-----------+------------------+\n",
            "|EVENTID|EVENTNUM|HOMEDESCRIPTION|        PCTIMESTRING|PERIOD|PLAYER1_ID|PLAYER1_NAME|PLAYER1_TEAM_ABBREVIATION|PLAYER1_TEAM_CITY|PLAYER1_TEAM_ID|PLAYER1_TEAM_NICKNAME|PLAYER2_ID|PLAYER2_NAME|PLAYER2_TEAM_ABBREVIATION,|PLAYER2_TEAM_CITY|PLAYER2_TEAM_ID|PLAYER2_TEAM_NICKNAME|PLAYER3_ID|PLAYER3_NAME|PLAYER3_TEAM_ABBREVIATION|PLAYER3_TEAM_CITY|PLAYER3_TEAM_ID|PLAYER3_TEAM_NICKNAME|SCORE|SCOREMARGIN|VISITORDESCRIPTION|\n",
            "+-------+--------+---------------+--------------------+------+----------+------------+-------------------------+-----------------+---------------+---------------------+----------+------------+--------------------------+-----------------+---------------+---------------------+----------+------------+-------------------------+-----------------+---------------+---------------------+-----+-----------+------------------+\n",
            "|      0|       0|       20001116|                NULL| 12:00|         1|           0|                     NULL|             NULL|           NULL|                 NULL|      NULL|           0|                      NULL|             NULL|           NULL|                 NULL|      NULL|           0|                     NULL|             NULL|           NULL|                 NULL| NULL|       NULL|              NULL|\n",
            "|      1|       1|       20001116|Jump Ball Grant v...| 12:00|         1|         258|              Brian Grant|              MIA|           NULL|         1610612748.0|      NULL|          87|           Dikembe Mutombo|              PHI|           NULL|         1610612755.0|      NULL|         238|              Tyrone Hill|              PHI|           NULL|         1610612755.0|76ers|       NULL|              NULL|\n",
            "|      2|       2|       20001116|                NULL| 11:45|         1|         947|            Allen Iverson|              PHI|           NULL|         1610612755.0|      NULL|           0|                      NULL|             NULL|           NULL|                 NULL|      NULL|           0|                     NULL|             NULL|           NULL|                 NULL| NULL|      2 - 0|                -2|\n",
            "|      3|       3|       20001116|                NULL| 11:28|         1|         238|              Tyrone Hill|              PHI|           NULL|         1610612755.0|      NULL|           0|                      NULL|             NULL|           NULL|                 NULL|      NULL|           0|                     NULL|             NULL|           NULL|                 NULL| NULL|       NULL|              NULL|\n",
            "|      4|       4|       20001116|Mason 17' Jump Sh...| 11:19|         1|         193|            Anthony Mason|              MIA|           NULL|         1610612748.0|      NULL|           0|                      NULL|             NULL|           NULL|                 NULL|      NULL|           0|                     NULL|             NULL|           NULL|                 NULL| NULL|      2 - 2|               TIE|\n",
            "|      5|       5|       20001116|                NULL| 10:56|         1|         248|             George Lynch|              PHI|           NULL|         1610612755.0|      NULL|           0|                      NULL|             NULL|           NULL|                 NULL|      NULL|           0|                     NULL|             NULL|           NULL|                 NULL| NULL|       NULL|              NULL|\n",
            "|      6|       6|       20001116|Mason REBOUND (Of...| 10:54|         1|         193|            Anthony Mason|              MIA|           NULL|         1610612748.0|      NULL|           0|                      NULL|             NULL|           NULL|                 NULL|      NULL|           0|                     NULL|             NULL|           NULL|                 NULL| NULL|       NULL|              NULL|\n",
            "|      7|       7|       20001116|MISS Majerle  Dri...| 10:49|         1|         105|              Dan Majerle|              MIA|           NULL|         1610612748.0|      NULL|           0|                      NULL|             NULL|           NULL|                 NULL|      NULL|           0|                     NULL|             NULL|           NULL|                 NULL| NULL|       NULL|              NULL|\n",
            "|      8|       8|       20001116|                NULL| 10:47|         1|         727|                Eric Snow|              PHI|           NULL|         1610612755.0|      NULL|           0|                      NULL|             NULL|           NULL|                 NULL|      NULL|           0|                     NULL|             NULL|           NULL|                 NULL| NULL|       NULL|              NULL|\n",
            "|      9|       9|       20001116|                NULL| 10:44|         1|         248|             George Lynch|              PHI|           NULL|         1610612755.0|      NULL|         727|                 Eric Snow|              PHI|           NULL|         1610612755.0|      NULL|           0|                     NULL|             NULL|           NULL|                 NULL| NULL|      4 - 2|                -2|\n",
            "|     10|      10|       20001116|Hardaway S.FOUL (...| 10:44|         1|         896|             Tim Hardaway|              MIA|           NULL|         1610612748.0|      NULL|           0|                      NULL|             NULL|           NULL|                 NULL|      NULL|           0|                     NULL|             NULL|           NULL|                 NULL| NULL|       NULL|              NULL|\n",
            "|     11|      11|       20001116|                NULL| 10:44|         1|         248|             George Lynch|              PHI|           NULL|         1610612755.0|      NULL|           0|                      NULL|             NULL|           NULL|                 NULL|      NULL|           0|                     NULL|             NULL|           NULL|                 NULL| NULL|       NULL|              NULL|\n",
            "|     12|      12|       20001116|Grant REBOUND (Of...| 10:43|         1|         258|              Brian Grant|              MIA|           NULL|         1610612748.0|      NULL|           0|                      NULL|             NULL|           NULL|                 NULL|      NULL|           0|                     NULL|             NULL|           NULL|                 NULL| NULL|       NULL|              NULL|\n",
            "|     13|      13|       20001116|MISS Grant 14' Ju...| 10:26|         1|         258|              Brian Grant|              MIA|           NULL|         1610612748.0|      NULL|           0|                      NULL|             NULL|           NULL|                 NULL|      NULL|           0|                     NULL|             NULL|           NULL|                 NULL| NULL|       NULL|              NULL|\n",
            "|     14|      14|       20001116|                NULL| 10:24|         1|         238|              Tyrone Hill|              PHI|           NULL|         1610612755.0|      NULL|           0|                      NULL|             NULL|           NULL|                 NULL|      NULL|           0|                     NULL|             NULL|           NULL|                 NULL| NULL|       NULL|              NULL|\n",
            "|     15|      15|       20001116|                NULL| 10:08|         1|         238|              Tyrone Hill|              PHI|           NULL|         1610612755.0|      NULL|           0|                      NULL|             NULL|           NULL|                 NULL|      NULL|           0|                     NULL|             NULL|           NULL|                 NULL| NULL|       NULL|              NULL|\n",
            "|     16|      16|       20001116|Mason REBOUND (Of...| 10:06|         1|         193|            Anthony Mason|              MIA|           NULL|         1610612748.0|      NULL|           0|                      NULL|             NULL|           NULL|                 NULL|      NULL|           0|                     NULL|             NULL|           NULL|                 NULL| NULL|       NULL|              NULL|\n",
            "|     17|      17|       20001116|MISS Bowen 4' Jum...|  9:53|         1|        1477|              Bruce Bowen|              MIA|           NULL|         1610612748.0|      NULL|           0|                      NULL|             NULL|           NULL|                 NULL|      NULL|           0|                     NULL|             NULL|           NULL|                 NULL| NULL|       NULL|              NULL|\n",
            "|     18|      18|       20001116|                NULL|  9:51|         1|         238|              Tyrone Hill|              PHI|           NULL|         1610612755.0|      NULL|           0|                      NULL|             NULL|           NULL|                 NULL|      NULL|           0|                     NULL|             NULL|           NULL|                 NULL| NULL|       NULL|              NULL|\n",
            "|     19|      19|       20001116|                NULL|  9:45|         1|         947|            Allen Iverson|              PHI|           NULL|         1610612755.0|      NULL|           0|                      NULL|             NULL|           NULL|                 NULL|      NULL|           0|                     NULL|             NULL|           NULL|                 NULL| NULL|      6 - 2|                -4|\n",
            "+-------+--------+---------------+--------------------+------+----------+------------+-------------------------+-----------------+---------------+---------------------+----------+------------+--------------------------+-----------------+---------------+---------------------+----------+------------+-------------------------+-----------------+---------------+---------------------+-----+-----------+------------------+\n",
            "only showing top 20 rows\n",
            "\n"
          ]
        }
      ]
    }
  ]
}